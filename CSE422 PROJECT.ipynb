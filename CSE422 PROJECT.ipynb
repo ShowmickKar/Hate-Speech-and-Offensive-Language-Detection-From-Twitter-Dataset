{
 "cells": [
  {
   "cell_type": "markdown",
   "metadata": {},
   "source": [
    "# Hate Speech and Offensive Language Detection from Twitter Dataset\n",
    "Dataset Link: https://www.kaggle.com/datasets/mrmorj/hate-speech-and-offensive-language-dataset"
   ]
  },
  {
   "cell_type": "markdown",
   "metadata": {},
   "source": [
    "### Import the necessary libraries"
   ]
  },
  {
   "cell_type": "code",
   "execution_count": 136,
   "metadata": {},
   "outputs": [],
   "source": [
    "import numpy as np\n",
    "import pandas as pd\n",
    "from matplotlib import pyplot as plt\n",
    "from sklearn.model_selection import train_test_split\n",
    "from sklearn.linear_model import LogisticRegression\n",
    "from sklearn.naive_bayes import GaussianNB\n",
    "from sklearn.neighbors import KNeighborsClassifier as KNN\n",
    "from sklearn.metrics import confusion_matrix, ConfusionMatrixDisplay, recall_score, precision_score, f1_score\n",
    "from sklearn.feature_extraction.text import CountVectorizer\n",
    "import seaborn as sns\n",
    "from imblearn.over_sampling import RandomOverSampler\n",
    "import nltk\n",
    "from nltk.corpus import wordnet\n",
    "from nltk.stem import WordNetLemmatizer\n",
    "stopwords = nltk.corpus.stopwords.words('english')\n",
    "import string\n",
    "import re\n",
    "from collections import Counter"
   ]
  },
  {
   "cell_type": "markdown",
   "metadata": {},
   "source": [
    "### Load Dataset and drop unnecessary columns"
   ]
  },
  {
   "cell_type": "code",
   "execution_count": 137,
   "metadata": {},
   "outputs": [
    {
     "data": {
      "text/html": [
       "<div>\n",
       "<style scoped>\n",
       "    .dataframe tbody tr th:only-of-type {\n",
       "        vertical-align: middle;\n",
       "    }\n",
       "\n",
       "    .dataframe tbody tr th {\n",
       "        vertical-align: top;\n",
       "    }\n",
       "\n",
       "    .dataframe thead th {\n",
       "        text-align: right;\n",
       "    }\n",
       "</style>\n",
       "<table border=\"1\" class=\"dataframe\">\n",
       "  <thead>\n",
       "    <tr style=\"text-align: right;\">\n",
       "      <th></th>\n",
       "      <th>Unnamed: 0</th>\n",
       "      <th>count</th>\n",
       "      <th>hate_speech</th>\n",
       "      <th>offensive_language</th>\n",
       "      <th>neither</th>\n",
       "      <th>class</th>\n",
       "      <th>tweet</th>\n",
       "    </tr>\n",
       "  </thead>\n",
       "  <tbody>\n",
       "    <tr>\n",
       "      <th>0</th>\n",
       "      <td>0</td>\n",
       "      <td>3</td>\n",
       "      <td>0</td>\n",
       "      <td>0</td>\n",
       "      <td>3</td>\n",
       "      <td>2</td>\n",
       "      <td>!!! RT @mayasolovely: As a woman you shouldn't...</td>\n",
       "    </tr>\n",
       "    <tr>\n",
       "      <th>1</th>\n",
       "      <td>1</td>\n",
       "      <td>3</td>\n",
       "      <td>0</td>\n",
       "      <td>3</td>\n",
       "      <td>0</td>\n",
       "      <td>1</td>\n",
       "      <td>!!!!! RT @mleew17: boy dats cold...tyga dwn ba...</td>\n",
       "    </tr>\n",
       "    <tr>\n",
       "      <th>2</th>\n",
       "      <td>2</td>\n",
       "      <td>3</td>\n",
       "      <td>0</td>\n",
       "      <td>3</td>\n",
       "      <td>0</td>\n",
       "      <td>1</td>\n",
       "      <td>!!!!!!! RT @UrKindOfBrand Dawg!!!! RT @80sbaby...</td>\n",
       "    </tr>\n",
       "    <tr>\n",
       "      <th>3</th>\n",
       "      <td>3</td>\n",
       "      <td>3</td>\n",
       "      <td>0</td>\n",
       "      <td>2</td>\n",
       "      <td>1</td>\n",
       "      <td>1</td>\n",
       "      <td>!!!!!!!!! RT @C_G_Anderson: @viva_based she lo...</td>\n",
       "    </tr>\n",
       "    <tr>\n",
       "      <th>4</th>\n",
       "      <td>4</td>\n",
       "      <td>6</td>\n",
       "      <td>0</td>\n",
       "      <td>6</td>\n",
       "      <td>0</td>\n",
       "      <td>1</td>\n",
       "      <td>!!!!!!!!!!!!! RT @ShenikaRoberts: The shit you...</td>\n",
       "    </tr>\n",
       "  </tbody>\n",
       "</table>\n",
       "</div>"
      ],
      "text/plain": [
       "   Unnamed: 0  count  hate_speech  offensive_language  neither  class  \\\n",
       "0           0      3            0                   0        3      2   \n",
       "1           1      3            0                   3        0      1   \n",
       "2           2      3            0                   3        0      1   \n",
       "3           3      3            0                   2        1      1   \n",
       "4           4      6            0                   6        0      1   \n",
       "\n",
       "                                               tweet  \n",
       "0  !!! RT @mayasolovely: As a woman you shouldn't...  \n",
       "1  !!!!! RT @mleew17: boy dats cold...tyga dwn ba...  \n",
       "2  !!!!!!! RT @UrKindOfBrand Dawg!!!! RT @80sbaby...  \n",
       "3  !!!!!!!!! RT @C_G_Anderson: @viva_based she lo...  \n",
       "4  !!!!!!!!!!!!! RT @ShenikaRoberts: The shit you...  "
      ]
     },
     "execution_count": 137,
     "metadata": {},
     "output_type": "execute_result"
    }
   ],
   "source": [
    "df = pd.read_csv(\"labeled_data.csv\")\n",
    "df=df.drop(df.index[3000:])\n",
    "df.head()"
   ]
  },
  {
   "cell_type": "markdown",
   "metadata": {},
   "source": [
    "### Visualization of dataset for output(Imbalanced Dataset)"
   ]
  },
  {
   "cell_type": "code",
   "execution_count": 138,
   "metadata": {},
   "outputs": [
    {
     "name": "stdout",
     "output_type": "stream",
     "text": [
      "Dataset size: (3000, 7)\n"
     ]
    },
    {
     "data": {
      "image/png": "[encoded data removed]",
      "text/plain": [
       "<Figure size 432x288 with 1 Axes>"
      ]
     },
     "metadata": {
      "needs_background": "light"
     },
     "output_type": "display_data"
    }
   ],
   "source": [
    "flags = [\"Hate Speech\", \"Offensive Language\", \"Neither\"]\n",
    "values = [df[df[\"class\"] == i].shape[0] for i in range(3)]\n",
    "plt.bar(flags, values, color=\"red\")\n",
    "plt.title(\"Visualization of dataset for output(Imbalanced Dataset)\")\n",
    "print(f\"Dataset size: {df.shape}\")\n",
    "plt.show()"
   ]
  },
  {
   "cell_type": "markdown",
   "metadata": {},
   "source": [
    "### Over sampling for this imbalanced dataset"
   ]
  },
  {
   "cell_type": "code",
   "execution_count": 139,
   "metadata": {},
   "outputs": [
    {
     "name": "stdout",
     "output_type": "stream",
     "text": [
      "Dataset size after oversampling: 7020\n"
     ]
    }
   ],
   "source": [
    "ros = RandomOverSampler(random_state=0)\n",
    "tweet_resampled, class_resampled = ros.fit_resample(np.array(list(df[\"tweet\"])).reshape(-1, 1), list(df[\"class\"]))\n",
    "tweet_resampled = np.array([tweet[0] for tweet in tweet_resampled])\n",
    "print(f\"Dataset size after oversampling: {len(tweet_resampled)}\")"
   ]
  },
  {
   "cell_type": "markdown",
   "metadata": {},
   "source": [
    "### Visualization of dataset after applying oversampling"
   ]
  },
  {
   "cell_type": "code",
   "execution_count": 140,
   "metadata": {},
   "outputs": [
    {
     "data": {
      "image/png": "[encoded data removed]",
      "text/plain": [
       "<Figure size 432x288 with 1 Axes>"
      ]
     },
     "metadata": {
      "needs_background": "light"
     },
     "output_type": "display_data"
    }
   ],
   "source": [
    "values = [class_resampled.count(i) for i in range(3)]\n",
    "plt.bar(flags, values, color=\"yellow\")\n",
    "plt.title(\"Visualization class distribution for After Applying Oversampling\")\n",
    "plt.show()"
   ]
  },
  {
   "cell_type": "markdown",
   "metadata": {},
   "source": [
    "### Preprocessing\n",
    "#### Steps\n",
    "* Removal of Punctuations\n",
    "* Lower Casing\n",
    "* Tokenization\n",
    "* Removal of Stop Words\n",
    "* Lemmatization\n",
    "\n",
    "Reference: https://www.analyticsvidhya.com/blog/2021/06/text-preprocessing-in-nlp-with-python-codes/"
   ]
  },
  {
   "cell_type": "code",
   "execution_count": 141,
   "metadata": {},
   "outputs": [],
   "source": [
    "# Punctuation Removal\n",
    "\n",
    "def remove_punctuation(text):\n",
    "    punctuation_free = \"\".join([i for i in text if i not in string.punctuation]).strip()\n",
    "    return punctuation_free "
   ]
  },
  {
   "cell_type": "code",
   "execution_count": 142,
   "metadata": {},
   "outputs": [],
   "source": [
    "# Tokenization\n",
    "\n",
    "def tokenize(text): # Reference: https://pynative.com/python-regex-split/\n",
    "    tokens = re.split(r\"\\s+\", text)\n",
    "    return tokens"
   ]
  },
  {
   "cell_type": "code",
   "execution_count": 143,
   "metadata": {},
   "outputs": [],
   "source": [
    "# Remove Stopwords\n",
    "\n",
    "def remove_stopwords(text):\n",
    "    removed_stopwords = [i for i in text if i not in stopwords]\n",
    "    return removed_stopwords"
   ]
  },
  {
   "cell_type": "code",
   "execution_count": 144,
   "metadata": {},
   "outputs": [],
   "source": [
    "# Lemmatization\n",
    "\n",
    "wordnet_lemmatizer = WordNetLemmatizer()\n",
    "def lemmatize(text):\n",
    "    lemmatized_text = [wordnet_lemmatizer.lemmatize(word) for word in text]\n",
    "    return lemmatized_text"
   ]
  },
  {
   "cell_type": "code",
   "execution_count": 145,
   "metadata": {},
   "outputs": [],
   "source": [
    "# # Preprocess the resampled text data\n",
    "\n",
    "tweets_punctuation_free = np.array([remove_punctuation(tweet) for tweet in tweet_resampled])\n",
    "tweets_lowercase = np.array([tweet.lower() for tweet in tweets_punctuation_free])\n",
    "tweets_tokenized = np.array([tokenize(tweet) for tweet in tweets_lowercase], dtype=object)\n",
    "tweets_no_stop_words = np.array([remove_stopwords(tweet) for tweet in tweets_tokenized], dtype=object)\n",
    "tweets_no_stop_words = np.array([remove_stopwords(tweet) for tweet in tweets_tokenized], dtype=object)\n",
    "tweets_lemmatized = np.array([lemmatize(tweet) for tweet in tweets_no_stop_words], dtype=object)"
   ]
  },
  {
   "cell_type": "markdown",
   "metadata": {},
   "source": [
    "### Additional Preprocessing Steps..\n",
    "Some additional preprocessing steps for better result such as 'URL removal' and 'Spell Correction' will be implemented later if time permits <br>\n",
    "Reference URL Removal: https://stackoverflow.com/questions/11331982/how-to-remove-any-url-within-a-string-in-python"
   ]
  },
  {
   "cell_type": "markdown",
   "metadata": {},
   "source": [
    "### Feature Extraction - Bag of Word using Monograms"
   ]
  },
  {
   "cell_type": "code",
   "execution_count": 146,
   "metadata": {},
   "outputs": [],
   "source": [
    "# Feature Extraction using Count Vectorization\n",
    "\n",
    "from itertools import count\n",
    "\n",
    "vectorizer = CountVectorizer()\n",
    "tweets_lemmatized_str = [\" \".join(tweet) for tweet in tweets_lemmatized]\n",
    "count_vectorized_tweets = vectorizer.fit_transform(tweets_lemmatized_str).toarray()"
   ]
  },
  {
   "cell_type": "code",
   "execution_count": 147,
   "metadata": {},
   "outputs": [],
   "source": [
    "# Split the dataset between Train and Test Set\n",
    "\n",
    "X_train, X_test, y_train, y_test = train_test_split(count_vectorized_tweets, class_resampled, test_size=0.2, random_state=42, shuffle=True)"
   ]
  },
  {
   "cell_type": "markdown",
   "metadata": {},
   "source": [
    "### Fit the models\n",
    "Algorithms\n",
    "* Logistic Regression\n",
    "* Naive Bayes Classifier\n",
    "* Kth Nearest Neighbor"
   ]
  },
  {
   "cell_type": "markdown",
   "metadata": {},
   "source": [
    "### Logistic Regression"
   ]
  },
  {
   "cell_type": "code",
   "execution_count": 148,
   "metadata": {},
   "outputs": [
    {
     "name": "stdout",
     "output_type": "stream",
     "text": [
      "0.9686609686609686\n"
     ]
    }
   ],
   "source": [
    "reg = LogisticRegression()\n",
    "reg.fit(X_train, y_train)\n",
    "reg_y_predict = reg.predict(X_test)\n",
    "reg_cf_matrix = confusion_matrix(y_test, reg_y_predict)\n",
    "reg_score = reg.score(X_test, y_test)\n",
    "print(reg_score)"
   ]
  },
  {
   "cell_type": "markdown",
   "metadata": {},
   "source": [
    "### Naive Bayes Classifier"
   ]
  },
  {
   "cell_type": "code",
   "execution_count": 149,
   "metadata": {},
   "outputs": [
    {
     "name": "stdout",
     "output_type": "stream",
     "text": [
      "0.9166666666666666\n"
     ]
    }
   ],
   "source": [
    "nvc = GaussianNB()\n",
    "nvc.fit(X_train, y_train)\n",
    "nvc_y_predict = nvc.predict(X_test)\n",
    "nvc_cf_matrix = confusion_matrix(y_test, nvc_y_predict)\n",
    "nvc_score = nvc.score(X_test, y_test)\n",
    "print(nvc_score)"
   ]
  },
  {
   "cell_type": "markdown",
   "metadata": {},
   "source": [
    "## Kth Nearest Neighbor"
   ]
  },
  {
   "cell_type": "code",
   "execution_count": 150,
   "metadata": {},
   "outputs": [
    {
     "name": "stdout",
     "output_type": "stream",
     "text": [
      "0.9316239316239316\n"
     ]
    }
   ],
   "source": [
    "knn = KNN(n_neighbors = 3)\n",
    "knn.fit(X_train, y_train)\n",
    "knn_y_predict = knn.predict(X_test)\n",
    "knn_cf_matrix = confusion_matrix(y_test, knn_y_predict)\n",
    "knn_score = knn.score(X_test, y_test)\n",
    "print(knn_score)"
   ]
  },
  {
   "cell_type": "markdown",
   "metadata": {},
   "source": [
    "### Confusion Matrix, Precision, Recall and F1 Score for Each Model"
   ]
  },
  {
   "cell_type": "code",
   "execution_count": 151,
   "metadata": {},
   "outputs": [],
   "source": [
    "# Reference: https://www.stackvidhya.com/plot-confusion-matrix-in-python-and-why/#:~:text=Plot%20Confusion%20Matrix%20for%20Binary%20Classes%20With%20Labels&text=You%20need%20to%20create%20a,matrix%20with%20the%20labels%20annotation.\n",
    "\n",
    "def display_confusion_matrix(cf_matrix, model_name, color_map): \n",
    "    dataframe_cfm = pd.DataFrame(cf_matrix, range(3), range(3))\n",
    "    plt.figure(figsize = (7,5))\n",
    "    ax = sns.heatmap(dataframe_cfm, annot=True, fmt='', cmap=color_map)\n",
    "    ax.set_title(f'Confusion Matrix for {model_name} \\n\\n');\n",
    "    ax.set_xlabel('\\nPredicted Label')\n",
    "    ax.set_ylabel('Actual Label');\n",
    "    ax.xaxis.set_ticklabels(['0','1', \"2\"])\n",
    "    ax.yaxis.set_ticklabels(['hate_speech','offensive_language', \"neither\"])\n",
    "    plt.show()"
   ]
  },
  {
   "cell_type": "code",
   "execution_count": 152,
   "metadata": {},
   "outputs": [],
   "source": [
    "# Calculate Precision, Recall and F1 Scores\n",
    "\n",
    "precision_scores = [precision_score(y_test, reg.predict(X_test), average=None), precision_score(y_test, nvc.predict(X_test), average=None), precision_score(y_test, knn.predict(X_test), average=None)]\n",
    "recall_scores = [recall_score(y_test, reg.predict(X_test), average=None), recall_score(y_test, nvc.predict(X_test), average=None), recall_score(y_test, knn.predict(X_test), average=None)]\n",
    "f1_scores = [f1_score(y_test, reg.predict(X_test), average=None), f1_score(y_test, nvc.predict(X_test), average=None), f1_score(y_test, knn.predict(X_test), average=None)]"
   ]
  },
  {
   "cell_type": "code",
   "execution_count": 153,
   "metadata": {},
   "outputs": [
    {
     "name": "stdout",
     "output_type": "stream",
     "text": [
      "     precision     recall     f1_score\n",
      "0    0.96           1.0       0.98\n",
      "1    1.0           0.91       0.95\n",
      "2    0.95           1.0       0.97\n"
     ]
    },
    {
     "data": {
      "image/png": "[encoded data removed]",
      "text/plain": [
       "<Figure size 504x360 with 2 Axes>"
      ]
     },
     "metadata": {
      "needs_background": "light"
     },
     "output_type": "display_data"
    }
   ],
   "source": [
    "# Confusion Matrix for Logistic Regression Model\n",
    "print(\"     precision     recall     f1_score\")\n",
    "for i in range(3):\n",
    "    print(f\"{i}    {round(precision_scores[0][i], 2)}           {round(recall_scores[0][i], 2)}       {round(f1_scores[0][i], 2)}\")\n",
    "\n",
    "display_confusion_matrix(reg_cf_matrix, \"Logistic Regression\", \"YlGnBu\")"
   ]
  },
  {
   "cell_type": "code",
   "execution_count": 154,
   "metadata": {},
   "outputs": [
    {
     "name": "stdout",
     "output_type": "stream",
     "text": [
      "     precision     recall     f1_score\n",
      "0    0.89           1.0        0.94\n",
      "1    0.98           0.77        0.86\n",
      "2    0.89           0.99        0.94\n"
     ]
    },
    {
     "data": {
      "image/png": "[encoded data removed]",
      "text/plain": [
       "<Figure size 504x360 with 2 Axes>"
      ]
     },
     "metadata": {
      "needs_background": "light"
     },
     "output_type": "display_data"
    }
   ],
   "source": [
    "# Confusion Matrix for Naive Bayes Classifier Model\n",
    "\n",
    "print(\"     precision     recall     f1_score\")\n",
    "for i in range(3):\n",
    "    print(f\"{i}    {round(precision_scores[1][i], 2)}           {round(recall_scores[1][i], 2)}        {round(f1_scores[1][i], 2)}\")\n",
    "\n",
    "display_confusion_matrix(nvc_cf_matrix, \"Naive Bayes Classifier\", \"Greens\")"
   ]
  },
  {
   "cell_type": "code",
   "execution_count": 155,
   "metadata": {},
   "outputs": [
    {
     "name": "stdout",
     "output_type": "stream",
     "text": [
      "     precision     recall     f1_score\n",
      "0    0.93          1.0        0.97\n",
      "1    0.99          0.81        0.89\n",
      "2    0.88          0.99        0.93\n"
     ]
    },
    {
     "data": {
      "image/png": "[encoded data removed]",
      "text/plain": [
       "<Figure size 504x360 with 2 Axes>"
      ]
     },
     "metadata": {
      "needs_background": "light"
     },
     "output_type": "display_data"
    }
   ],
   "source": [
    "# Confusion Matrix for Kth Nearest Neighbor Model\n",
    "\n",
    "print(\"     precision     recall     f1_score\")\n",
    "for i in range(3): \n",
    "    print(f\"{i}    {round(precision_scores[2][i], 2)}          {round(recall_scores[2][i], 2)}        {round(f1_scores[2][i], 2)}\")\n",
    "\n",
    "\n",
    "display_confusion_matrix(knn_cf_matrix, \"Kth Nearest Neighbor\", \"Blues\")"
   ]
  }
 ],
 "metadata": {
  "kernelspec": {
   "display_name": "Python 3",
   "language": "python",
   "name": "python3"
  },
  "language_info": {
   "codemirror_mode": {
    "name": "ipython",
    "version": 3
   },
   "file_extension": ".py",
   "mimetype": "text/x-python",
   "name": "python",
   "nbconvert_exporter": "python",
   "pygments_lexer": "ipython3",
   "version": "3.8.1"
  },
  "vscode": {
   "interpreter": {
    "hash": "2e15844a05177a24da38cd46e9d40f03c48dc0b90744f2b8a056b9a9829b6dc2"
   }
  }
 },
 "nbformat": 4,
 "nbformat_minor": 2
}
